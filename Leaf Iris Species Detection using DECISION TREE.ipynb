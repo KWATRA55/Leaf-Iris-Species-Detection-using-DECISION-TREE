{
 "cells": [
  {
   "cell_type": "code",
   "execution_count": 1,
   "source": [
    "import pandas as pd\r\n",
    "import numpy as np\r\n",
    "import sklearn"
   ],
   "outputs": [],
   "metadata": {}
  },
  {
   "cell_type": "code",
   "execution_count": 3,
   "source": [
    "from sklearn.datasets import load_iris\r\n",
    "iris_data = load_iris()\r\n",
    "\r\n",
    "X = pd.DataFrame(iris_data.data, columns=iris_data.feature_names)\r\n",
    "y = iris_data.target"
   ],
   "outputs": [],
   "metadata": {}
  },
  {
   "cell_type": "code",
   "execution_count": 4,
   "source": [
    "from sklearn.model_selection import train_test_split\r\n",
    "X_train,X_test, y_train, y_test = train_test_split( X, y, test_size=0.2, random_state=0)"
   ],
   "outputs": [],
   "metadata": {}
  },
  {
   "cell_type": "code",
   "execution_count": 6,
   "source": [
    "# finding the best max_depth for our model\r\n",
    "from sklearn.tree import DecisionTreeClassifier\r\n",
    "\r\n",
    "accuracy = []\r\n",
    "for i in range(1,15):\r\n",
    "    model = DecisionTreeClassifier(max_depth=i, random_state=0)\r\n",
    "    model.fit(X_train, y_train)\r\n",
    "    accuracy.append(model.score(X_test, y_test)*100)\r\n",
    "\r\n",
    "import matplotlib.pyplot as plt\r\n",
    "plt.plot(range(1,15), accuracy)\r\n",
    "plt.xlabel(\"max depth\")\r\n",
    "plt.ylabel(\"accuracy\")\r\n",
    "\r\n"
   ],
   "outputs": [
    {
     "output_type": "execute_result",
     "data": {
      "text/plain": [
       "Text(0, 0.5, 'accuracy')"
      ]
     },
     "metadata": {},
     "execution_count": 6
    },
    {
     "output_type": "display_data",
     "data": {
      "image/png": "[encoded data removed]",
      "text/plain": [
       "<Figure size 432x288 with 1 Axes>"
      ]
     },
     "metadata": {
      "needs_background": "light"
     }
    }
   ],
   "metadata": {}
  },
  {
   "cell_type": "code",
   "execution_count": 7,
   "source": [
    "# we have to keep the max depth greater than 4\r\n",
    "# using grid searchcv for getting the best other hyperparameters\r\n",
    "\r\n",
    "from sklearn.model_selection import GridSearchCV\r\n",
    "params = [{'criterion' : ['gini','entropy'], 'max_depth' : [4,5,6]} ]\r\n",
    "\r\n",
    "tree = DecisionTreeClassifier()\r\n",
    "\r\n",
    "model = GridSearchCV(tree, params, cv=10)\r\n",
    "model.fit(X_train, y_train)\r\n",
    "model.best_params_"
   ],
   "outputs": [
    {
     "output_type": "execute_result",
     "data": {
      "text/plain": [
       "{'criterion': 'entropy', 'max_depth': 4}"
      ]
     },
     "metadata": {},
     "execution_count": 7
    }
   ],
   "metadata": {}
  },
  {
   "cell_type": "code",
   "execution_count": 10,
   "source": [
    "tree = DecisionTreeClassifier(criterion = 'entropy', max_depth=4)\r\n",
    "tree.fit(X_test, y_test)\r\n",
    "tree.score(X_test, y_test)"
   ],
   "outputs": [
    {
     "output_type": "execute_result",
     "data": {
      "text/plain": [
       "1.0"
      ]
     },
     "metadata": {},
     "execution_count": 10
    }
   ],
   "metadata": {}
  },
  {
   "cell_type": "code",
   "execution_count": null,
   "source": [],
   "outputs": [],
   "metadata": {}
  }
 ],
 "metadata": {
  "orig_nbformat": 4,
  "language_info": {
   "name": "python",
   "version": "3.9.5",
   "mimetype": "text/x-python",
   "codemirror_mode": {
    "name": "ipython",
    "version": 3
   },
   "pygments_lexer": "ipython3",
   "nbconvert_exporter": "python",
   "file_extension": ".py"
  },
  "kernelspec": {
   "name": "python3",
   "display_name": "Python 3.9.5 64-bit"
  },
  "interpreter": {
   "hash": "c569cd2e17f62341e0f08a54f9a867c3c0d3a6f67454072d7de41a8b5dff8343"
  }
 },
 "nbformat": 4,
 "nbformat_minor": 2
}